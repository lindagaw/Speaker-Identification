{
 "cells": [
  {
   "cell_type": "code",
   "execution_count": 32,
   "metadata": {},
   "outputs": [],
   "source": [
    "import tensorflow as tf\n",
    "\n",
    "from keras.callbacks import ModelCheckpoint, EarlyStopping\n",
    "from keras.constraints import maxnorm\n",
    "from keras.layers import Convolution1D, Dense, MaxPooling1D, Flatten, Add, Dropout, Input, Activation\n",
    "from keras.layers import TimeDistributed, Bidirectional, LSTM, LeakyReLU\n",
    "from keras.models import Sequential\n",
    "from keras import optimizers, regularizers\n",
    "from keras.utils import np_utils, to_categorical\n",
    "from keras.models import Model, load_model, Sequential\n",
    "from keras.regularizers import l2\n",
    "\n",
    "import keras\n",
    "\n",
    "from IPython.display import clear_output\n",
    "from tensorflow.python.client import device_lib\n",
    "from tensorflow.python.keras import backend\n",
    "import tensorflow as tf\n",
    "\n",
    "from extract_feat import extract_feats_single_wav\n",
    "import os\n",
    "import numpy as np"
   ]
  },
  {
   "cell_type": "code",
   "execution_count": 39,
   "metadata": {},
   "outputs": [],
   "source": [
    "def load_emp_miu(y):\n",
    "    path = '..//models//emp_miu_class_' + str(y) + '.npy'\n",
    "    return np.load(path)\n",
    "\n",
    "def load_inv_emp_covar():\n",
    "    path = '..//models//inv_emp_sigma.npy'\n",
    "    return np.load(path)\n",
    "\n",
    "def load_mahalanobis_mean(y):\n",
    "    path = '..//models//mahalanobis_mean_class_' + str(y) + '.npy'\n",
    "    return np.load(path)\n",
    "\n",
    "def load_mahalanobis_std(y):\n",
    "    path = '..//models//mahalanobis_std_class_' + str(y) + '.npy'\n",
    "    return np.load(path)\n",
    "\n",
    "def load_mahalanobis_coeff(y):\n",
    "    path = '..//models//mahalanobis_threshold_coefficient_class_' + str(y) + '.npy'\n",
    "    return np.load(path)\n",
    "\n",
    "def is_in_distribution(x, predicted_y):\n",
    "    \n",
    "    assert(predicted_y == 0 or predicted_y == 1)\n",
    "       \n",
    "    emp_miu = load_emp_miu(predicted_y)\n",
    "    inv_emp_sigma = load_inv_emp_covar()\n",
    "    m_mean = load_mahalanobis_mean(predicted_y)\n",
    "    m_std = load_mahalanobis_std(predicted_y)\n",
    "    coeff = load_mahalanobis_coeff(predicted_y)\n",
    "    \n",
    "    upper = m_mean + coeff*m_std\n",
    "    lower = m_mean - coeff*m_std\n",
    "\n",
    "    try:\n",
    "        m_dist = np.transpose(x-emp_miu) @ inv_emp_sigma @ (x-emp_miu)\n",
    "    except:\n",
    "        m = (x-emp_miu) * inv_emp_sigma * (x-emp_miu)\n",
    "        #m = np.linalg.norm(m)\n",
    "        \n",
    "    print(m)\n",
    "    print(lower)\n",
    "    print(upper)\n",
    "    if np.linalg.norm(lower) < m and m < np.linalg.norm(upper):\n",
    "        return True\n",
    "    else:\n",
    "        return False"
   ]
  },
  {
   "cell_type": "code",
   "execution_count": 40,
   "metadata": {},
   "outputs": [
    {
     "name": "stdout",
     "output_type": "stream",
     "text": [
      "Num GPUs Available:  0\n",
      "WARNING:tensorflow:No training configuration found in save file: the model was *not* compiled. Compile it manually.\n"
     ]
    }
   ],
   "source": [
    "print(\"Num GPUs Available: \", len(tf.config.experimental.list_physical_devices('GPU')))\n",
    "tf.keras.backend.clear_session()\n",
    "tf.compat.v1.reset_default_graph()\n",
    "\n",
    "def mil_squared_error(y_true, y_pred):\n",
    "    return tf.keras.backend.square(tf.keras.backend.max(y_pred) - tf.keras.backend.max(y_true))\n",
    "\n",
    "adam = tf.keras.optimizers.Adam(learning_rate=1e-5)\n",
    "\n",
    "model = tf.keras.models.load_model('..//models//cnn.hdf5', custom_objects={'mil_squared_error': mil_squared_error, 'adam': adam})"
   ]
  },
  {
   "cell_type": "code",
   "execution_count": 41,
   "metadata": {},
   "outputs": [],
   "source": [
    "def extract_features_for_all_wavs(dest, label):\n",
    "    result = np.expand_dims(np.zeros((48, 272)), axis=0)\n",
    "\n",
    "    for wav in os.listdir(dest):\n",
    "        vec = extract_feats_single_wav(dest + wav)\n",
    "        if not str(vec.shape) == '(48, 272)':\n",
    "            continue\n",
    "        result = np.vstack((result, np.expand_dims(vec, axis=0)))\n",
    "\n",
    "    result = result[1:]\n",
    "    labels = np.expand_dims(np.asarray([label] * len(result)), axis=1)\n",
    "    print(result.shape)\n",
    "    print(labels.shape)\n",
    "\n",
    "    return result, labels"
   ]
  },
  {
   "cell_type": "code",
   "execution_count": 42,
   "metadata": {},
   "outputs": [],
   "source": [
    "# this part assumes that the model is trained.\n",
    "# import sounds\n",
    "\n",
    "test_dir = 'D://0124//'\n",
    "\n",
    "def identify(test_dir, threshold):\n",
    "    in_dist = 0\n",
    "    out_dist = 0\n",
    "    \n",
    "    for wav in os.listdir(test_dir):\n",
    "        \n",
    "        if not wav.endswith('wav'):\n",
    "            continue\n",
    "        else:\n",
    "            feat_vec = np.expand_dims(extract_feats_single_wav(test_dir + wav), axis=0)\n",
    "            softmax = np.squeeze(model.predict(feat_vec))\n",
    "            predicted_label = np.argmax(softmax)\n",
    "            \n",
    "            if is_in_distribution(softmax, predicted_label):\n",
    "                in_dist += 1\n",
    "            else:\n",
    "                out_dist += 1\n",
    "            break\n",
    "            print(str(in_dist + out_dist) + ' out of ' + str(len(os.listdir(test_dir))))\n",
    "    print('in distribution samples: ' + str(in_dist))\n",
    "    print('out of distribution samples: ' + str(out_dist))\n"
   ]
  },
  {
   "cell_type": "code",
   "execution_count": 43,
   "metadata": {
    "scrolled": true
   },
   "outputs": [
    {
     "name": "stdout",
     "output_type": "stream",
     "text": [
      "[0.71724486 0.99059683]\n",
      "-4.918867573142052\n",
      "6.805473431944847\n"
     ]
    },
    {
     "ename": "ValueError",
     "evalue": "The truth value of an array with more than one element is ambiguous. Use a.any() or a.all()",
     "output_type": "error",
     "traceback": [
      "\u001b[1;31m---------------------------------------------------------------------------\u001b[0m",
      "\u001b[1;31mValueError\u001b[0m                                Traceback (most recent call last)",
      "\u001b[1;32m<ipython-input-43-430401196c55>\u001b[0m in \u001b[0;36m<module>\u001b[1;34m\u001b[0m\n\u001b[1;32m----> 1\u001b[1;33m \u001b[0midentify\u001b[0m\u001b[1;33m(\u001b[0m\u001b[0mtest_dir\u001b[0m\u001b[1;33m,\u001b[0m \u001b[1;36m0.8\u001b[0m\u001b[1;33m)\u001b[0m\u001b[1;33m\u001b[0m\u001b[1;33m\u001b[0m\u001b[0m\n\u001b[0m",
      "\u001b[1;32m<ipython-input-42-b148e6d6a8be>\u001b[0m in \u001b[0;36midentify\u001b[1;34m(test_dir, threshold)\u001b[0m\n\u001b[0;32m     17\u001b[0m             \u001b[0mpredicted_label\u001b[0m \u001b[1;33m=\u001b[0m \u001b[0mnp\u001b[0m\u001b[1;33m.\u001b[0m\u001b[0margmax\u001b[0m\u001b[1;33m(\u001b[0m\u001b[0msoftmax\u001b[0m\u001b[1;33m)\u001b[0m\u001b[1;33m\u001b[0m\u001b[1;33m\u001b[0m\u001b[0m\n\u001b[0;32m     18\u001b[0m \u001b[1;33m\u001b[0m\u001b[0m\n\u001b[1;32m---> 19\u001b[1;33m             \u001b[1;32mif\u001b[0m \u001b[0mis_in_distribution\u001b[0m\u001b[1;33m(\u001b[0m\u001b[0msoftmax\u001b[0m\u001b[1;33m,\u001b[0m \u001b[0mpredicted_label\u001b[0m\u001b[1;33m)\u001b[0m\u001b[1;33m:\u001b[0m\u001b[1;33m\u001b[0m\u001b[1;33m\u001b[0m\u001b[0m\n\u001b[0m\u001b[0;32m     20\u001b[0m                 \u001b[0min_dist\u001b[0m \u001b[1;33m+=\u001b[0m \u001b[1;36m1\u001b[0m\u001b[1;33m\u001b[0m\u001b[1;33m\u001b[0m\u001b[0m\n\u001b[0;32m     21\u001b[0m             \u001b[1;32melse\u001b[0m\u001b[1;33m:\u001b[0m\u001b[1;33m\u001b[0m\u001b[1;33m\u001b[0m\u001b[0m\n",
      "\u001b[1;32m<ipython-input-39-6731e041a908>\u001b[0m in \u001b[0;36mis_in_distribution\u001b[1;34m(x, predicted_y)\u001b[0m\n\u001b[0;32m     41\u001b[0m     \u001b[0mprint\u001b[0m\u001b[1;33m(\u001b[0m\u001b[0mlower\u001b[0m\u001b[1;33m)\u001b[0m\u001b[1;33m\u001b[0m\u001b[1;33m\u001b[0m\u001b[0m\n\u001b[0;32m     42\u001b[0m     \u001b[0mprint\u001b[0m\u001b[1;33m(\u001b[0m\u001b[0mupper\u001b[0m\u001b[1;33m)\u001b[0m\u001b[1;33m\u001b[0m\u001b[1;33m\u001b[0m\u001b[0m\n\u001b[1;32m---> 43\u001b[1;33m     \u001b[1;32mif\u001b[0m \u001b[0mnp\u001b[0m\u001b[1;33m.\u001b[0m\u001b[0mlinalg\u001b[0m\u001b[1;33m.\u001b[0m\u001b[0mnorm\u001b[0m\u001b[1;33m(\u001b[0m\u001b[0mlower\u001b[0m\u001b[1;33m)\u001b[0m \u001b[1;33m<\u001b[0m \u001b[0mm\u001b[0m \u001b[1;32mand\u001b[0m \u001b[0mm\u001b[0m \u001b[1;33m<\u001b[0m \u001b[0mnp\u001b[0m\u001b[1;33m.\u001b[0m\u001b[0mlinalg\u001b[0m\u001b[1;33m.\u001b[0m\u001b[0mnorm\u001b[0m\u001b[1;33m(\u001b[0m\u001b[0mupper\u001b[0m\u001b[1;33m)\u001b[0m\u001b[1;33m:\u001b[0m\u001b[1;33m\u001b[0m\u001b[1;33m\u001b[0m\u001b[0m\n\u001b[0m\u001b[0;32m     44\u001b[0m         \u001b[1;32mreturn\u001b[0m \u001b[1;32mTrue\u001b[0m\u001b[1;33m\u001b[0m\u001b[1;33m\u001b[0m\u001b[0m\n\u001b[0;32m     45\u001b[0m     \u001b[1;32melse\u001b[0m\u001b[1;33m:\u001b[0m\u001b[1;33m\u001b[0m\u001b[1;33m\u001b[0m\u001b[0m\n",
      "\u001b[1;31mValueError\u001b[0m: The truth value of an array with more than one element is ambiguous. Use a.any() or a.all()"
     ]
    }
   ],
   "source": [
    "identify(test_dir, 0.8)"
   ]
  },
  {
   "cell_type": "code",
   "execution_count": null,
   "metadata": {},
   "outputs": [],
   "source": []
  }
 ],
 "metadata": {
  "kernelspec": {
   "display_name": "Python 3.7.4 64-bit ('base': conda)",
   "language": "python",
   "name": "python37464bitbaseconda520b236a9c6d486bbc01b80a136b32a1"
  },
  "language_info": {
   "codemirror_mode": {
    "name": "ipython",
    "version": 3
   },
   "file_extension": ".py",
   "mimetype": "text/x-python",
   "name": "python",
   "nbconvert_exporter": "python",
   "pygments_lexer": "ipython3",
   "version": "3.7.7"
  }
 },
 "nbformat": 4,
 "nbformat_minor": 4
}
